{
 "cells": [
  {
   "cell_type": "code",
   "execution_count": null,
   "metadata": {},
   "outputs": [],
   "source": [
    "#Escribir declaraciones if, else, y elif"
   ]
  },
  {
   "cell_type": "code",
   "execution_count": null,
   "metadata": {},
   "outputs": [],
   "source": [
    "# Añadir el código necesario para crear una variable que guarde la velocidad del asteroide.\n",
    "# Escribe una expresión de prueba para calcular si necesita una advertencia.\n",
    "# Agregue las instrucciones que se ejecutarán si la expresión de prueba es true o false.\n",
    "# Agrega el código para crear una variable para un asteroide que viaja a 19 km/s\n",
    "# Escribe varias expresiones de prueba para determinar si puedes ver el rayo de luz desde la tierra\n",
    "# Agrega las instrucciones que se ejecutarán si las expresiones de prueba son True o False"
   ]
  },
  {
   "cell_type": "code",
   "execution_count": 2,
   "metadata": {},
   "outputs": [
    {
     "name": "stdout",
     "output_type": "stream",
     "text": [
      "Veremos un asteroide en el cielo a una velocidad de: 60 km/s !\n"
     ]
    }
   ],
   "source": [
    "velAsteroide = 60\n",
    "if velAsteroide >= 20:\n",
    "    print(\"Veremos un asteroide en el cielo a una velocidad de: {} km/s !\".format(velAsteroide))\n",
    "else:\n",
    "    print(\"No hay avisos\")"
   ]
  },
  {
   "cell_type": "code",
   "execution_count": 3,
   "metadata": {},
   "outputs": [
    {
     "name": "stdout",
     "output_type": "stream",
     "text": [
      "No hay avisos\n"
     ]
    }
   ],
   "source": [
    "velAsteroide = 19\n",
    "if velAsteroide >= 20:\n",
    "    print(\"Veremos un asteroide en el cielo a una velocidad de: {} km/s !\".format(velAsteroide))\n",
    "elif velAsteroide == 20:\n",
    "    print(\"Veremos un asteroide en el cielo a una velocidad de: {} km/s !\".format(velAsteroide))\n",
    "else:\n",
    "    print(\"No hay avisos\")"
   ]
  },
  {
   "cell_type": "code",
   "execution_count": 7,
   "metadata": {},
   "outputs": [
    {
     "name": "stdout",
     "output_type": "stream",
     "text": [
      "Veremos un asteroide en el cielo a una velocidad de: 30 km/s !\n"
     ]
    }
   ],
   "source": [
    "velAsteroide = 30\n",
    "sizeAsteroide = 15\n",
    "\n",
    "if velAsteroide >= 25 and sizeAsteroide >= 20:\n",
    "     print(\"Un gran asteroide de {} se acerca a una velocidad de : {} km/s !\".format(sizeAsteroide, velAsteroide))\n",
    "elif velAsteroide >= 20:\n",
    "    print(\"Veremos un asteroide en el cielo a una velocidad de: {} km/s !\".format(velAsteroide))\n",
    "elif sizeAsteroide < 20:\n",
    "    print(\"No hay avisos\")\n",
    "else:\n",
    "    print(\"No hay avisos\")\n"
   ]
  }
 ],
 "metadata": {
  "interpreter": {
   "hash": "ecc00035599a2a5af6d1725f103a1c85ca1bb6919d76d15eeab97f2612f268e8"
  },
  "kernelspec": {
   "display_name": "Python 3.8.8 ('base')",
   "language": "python",
   "name": "python3"
  },
  "language_info": {
   "codemirror_mode": {
    "name": "ipython",
    "version": 3
   },
   "file_extension": ".py",
   "mimetype": "text/x-python",
   "name": "python",
   "nbconvert_exporter": "python",
   "pygments_lexer": "ipython3",
   "version": "3.8.8"
  },
  "orig_nbformat": 4
 },
 "nbformat": 4,
 "nbformat_minor": 2
}
