{
 "cells": [
  {
   "cell_type": "code",
   "execution_count": null,
   "metadata": {},
   "outputs": [],
   "source": [
    "# Ejercicio: Uso de funciones en Python\n",
    "#Ejercicio 1: Trabajar con argumentos en funciones"
   ]
  },
  {
   "cell_type": "code",
   "execution_count": 2,
   "metadata": {},
   "outputs": [
    {
     "name": "stdout",
     "output_type": "stream",
     "text": [
      "Reporte de combustibles:\n",
      "            Promedio general: 68.0%\n",
      "            Tanque 1: 85%\n",
      "            Tanque 2: 76%\n",
      "            Tanque 3: 43%\n",
      "            \n"
     ]
    }
   ],
   "source": [
    "# Función para leer 3 tanques de combustible y muestre el promedio\n",
    "def average(values):\n",
    "    promedioTotal = sum(values)\n",
    "    numeroDeItems = len(values)\n",
    "    return promedioTotal/numeroDeItems\n",
    "\n",
    "def reporteCombustibles(combustible1, combustible2, combustible3):\n",
    "    # Llamamos a la función que genera el reporte print(funcion(tanque1, tanque2, tanque3))\n",
    "    promedioTotal = (combustible1 + combustible2 + combustible3) / 3\n",
    "    return f\"\"\"Reporte de combustibles:\n",
    "            Promedio general: {average([combustible1, combustible2, combustible3])}%\n",
    "            Tanque 1: {combustible1}%\n",
    "            Tanque 2: {combustible2}%\n",
    "            Tanque 3: {combustible3}%\n",
    "            \"\"\"\n",
    "print(reporteCombustibles(85, 76, 43))"
   ]
  },
  {
   "cell_type": "code",
   "execution_count": 3,
   "metadata": {},
   "outputs": [],
   "source": [
    "# Ejercicio : Trabajar con argumentos de palabras clave en funciones"
   ]
  },
  {
   "cell_type": "code",
   "execution_count": 6,
   "metadata": {},
   "outputs": [
    {
     "name": "stdout",
     "output_type": "stream",
     "text": [
      "\n",
      "    Mision con destino a Marte\n",
      "    Tiempo de vuelo: 123 minutos\n",
      "    Combustible: 5000 galones\n"
     ]
    }
   ],
   "source": [
    "# Función con un informe preciso de la misión. Considera hora de prelanzamiento, tiempo de vuelo, destino, tanque externo y tanque interno\n",
    "def reporteMision(hrprelanzamiento, tvuelo, destino, texterno, tinterno):\n",
    "    return f\"\"\"\n",
    "    Mision con destino a {destino}\n",
    "    Tiempo de vuelo: {tvuelo} minutos\n",
    "    Combustible: {texterno+tinterno} galones\"\"\"\n",
    "\n",
    "print(reporteMision(5,123, \"Marte\", 3000, 2000))"
   ]
  },
  {
   "cell_type": "code",
   "execution_count": 5,
   "metadata": {},
   "outputs": [
    {
     "name": "stdout",
     "output_type": "stream",
     "text": [
      "\n",
      "    Mision con destino a Marte\n",
      "    Tiempo de vuelo: 44 minutos\n",
      "    Combustible: 7000 galones\n"
     ]
    }
   ],
   "source": [
    "# Escribe tu nueva función de reporte considerando lo anterior\n",
    "def reporteMision(destino, *minutes, **combustible):\n",
    "    return f\"\"\"\n",
    "    Mision con destino a {destino}\n",
    "    Tiempo de vuelo: {sum(minutes)} minutos\n",
    "    Combustible: {sum(combustible.values())} galones\"\"\"\n",
    "\n",
    "print(reporteMision(\"Marte\", 5, 7, 32, main=3000, external=4000))"
   ]
  },
  {
   "cell_type": "code",
   "execution_count": 11,
   "metadata": {},
   "outputs": [
    {
     "name": "stdout",
     "output_type": "stream",
     "text": [
      "\n",
      "    Mision con destino a Marte\n",
      "    Tiempo de vuelo: 44 minutos\n",
      "    Combustible: 7000 galones  principal tanque => 3000 galones externo tanque => 4000 galones\n"
     ]
    }
   ],
   "source": [
    "# Actualiza\n",
    "def reporteMision(destino, *minutes, **combustible):\n",
    "    estado = f\"\"\"\n",
    "    Mision con destino a {destino}\n",
    "    Tiempo de vuelo: {sum(minutes)} minutos\n",
    "    Combustible: {sum(combustible.values())} galones \"\"\"\n",
    "    for tanque, galones in combustible.items():\n",
    "        estado+=f\" {tanque} tanque => {galones} galones\"\n",
    "    return estado\n",
    "\n",
    "\n",
    "print(reporteMision(\"Marte\", 5, 7, 32, principal=3000, externo=4000))"
   ]
  }
 ],
 "metadata": {
  "interpreter": {
   "hash": "ecc00035599a2a5af6d1725f103a1c85ca1bb6919d76d15eeab97f2612f268e8"
  },
  "kernelspec": {
   "display_name": "Python 3.8.8 ('base')",
   "language": "python",
   "name": "python3"
  },
  "language_info": {
   "codemirror_mode": {
    "name": "ipython",
    "version": 3
   },
   "file_extension": ".py",
   "mimetype": "text/x-python",
   "name": "python",
   "nbconvert_exporter": "python",
   "pygments_lexer": "ipython3",
   "version": "3.8.8"
  },
  "orig_nbformat": 4
 },
 "nbformat": 4,
 "nbformat_minor": 2
}
