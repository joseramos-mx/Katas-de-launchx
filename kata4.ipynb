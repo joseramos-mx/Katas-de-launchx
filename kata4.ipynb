{
 "cells": [
  {
   "cell_type": "code",
   "execution_count": 19,
   "metadata": {},
   "outputs": [],
   "source": [
    "## Ejercicio1"
   ]
  },
  {
   "cell_type": "code",
   "execution_count": 21,
   "metadata": {},
   "outputs": [],
   "source": [
    "text = \"\"\"Interesting facts about the Moon. The Moon is Earth's only satellite. There are several interesting facts about the Moon and how it affects life here on Earth. \n",
    "On average, the Moon moves 4cm away from the Earth every year. This yearly drift is not significant enough to cause immediate effects on Earth. The highest daylight temperature of the Moon is 127 C.\"\"\""
   ]
  },
  {
   "cell_type": "code",
   "execution_count": 22,
   "metadata": {},
   "outputs": [],
   "source": [
    "separatedText = text.split(\". \")"
   ]
  },
  {
   "cell_type": "code",
   "execution_count": 23,
   "metadata": {},
   "outputs": [],
   "source": [
    "keyWords = [\"average\", \"temperature\", \"distance\"]"
   ]
  },
  {
   "cell_type": "code",
   "execution_count": 24,
   "metadata": {},
   "outputs": [
    {
     "name": "stdout",
     "output_type": "stream",
     "text": [
      "\n",
      "On average, the Moon moves 4cm away from the Earth every year\n",
      "The highest daylight temperature of the Moon is 127 C.\n"
     ]
    }
   ],
   "source": [
    "for sentence in separatedText:\n",
    "    for kword in keyWords:\n",
    "        if kword in sentence:\n",
    "            print(sentence)\n",
    "            break"
   ]
  },
  {
   "cell_type": "code",
   "execution_count": 18,
   "metadata": {},
   "outputs": [
    {
     "name": "stdout",
     "output_type": "stream",
     "text": [
      "The Moon is Earth's only satellite\n",
      "There are several interesting facts about the Moon and how it affects life here on Earth\n",
      "This yearly drift is not significant enough to cause immediate effects on Earth\n",
      "The highest daylight temperature of the Moon is 127 Celsius.\n"
     ]
    }
   ],
   "source": [
    "for sentence in separatedText:\n",
    "    for kword in keyWords:\n",
    "        if kword in sentence:\n",
    "            print(sentence.replace(\"C\", \"Celsius\"))\n",
    "            break"
   ]
  },
  {
   "cell_type": "code",
   "execution_count": 20,
   "metadata": {},
   "outputs": [],
   "source": [
    "## Ejercicio2"
   ]
  },
  {
   "cell_type": "code",
   "execution_count": 89,
   "metadata": {},
   "outputs": [],
   "source": [
    "planeta = 'Martes'\n",
    "gravedad  = 0.00143\n",
    "nombre = 'Ganímedes'"
   ]
  },
  {
   "cell_type": "code",
   "execution_count": 82,
   "metadata": {},
   "outputs": [],
   "source": [
    "# Creamos el título\n",
    "titulo = f\"Datos de {nombre}\""
   ]
  },
  {
   "cell_type": "code",
   "execution_count": 83,
   "metadata": {},
   "outputs": [],
   "source": [
    "# Creamos la plantilla\n",
    "datosAc = f\"\"\"\n",
    "{\"*\"*50}\n",
    "nombre del planeta: {planeta}\n",
    "gravedad en {nombre}: {gravedad*1000} m/s2\"\"\" "
   ]
  },
  {
   "cell_type": "code",
   "execution_count": 84,
   "metadata": {},
   "outputs": [],
   "source": [
    "plantilla = f\"\"\"{titulo.title()}\n",
    "                {datosAc}\"\"\""
   ]
  },
  {
   "cell_type": "code",
   "execution_count": 85,
   "metadata": {},
   "outputs": [
    {
     "name": "stdout",
     "output_type": "stream",
     "text": [
      "Datos De Ganímedes\n",
      "                \n",
      "**************************************************\n",
      "nombre del planeta: Marte\n",
      "gravedad en Ganímedes: 1.4300000000000002 m/s2\n"
     ]
    }
   ],
   "source": [
    "print(plantilla)"
   ]
  },
  {
   "cell_type": "code",
   "execution_count": 86,
   "metadata": {},
   "outputs": [],
   "source": [
    "plantilla2 = f\"\"\"\n",
    "Datos De {nombre}   \n",
    "**************************************************\n",
    "nombre del planeta: {planeta}\n",
    "gravedad en Ganímedes: {gravedad*1000} m/s2\"\"\""
   ]
  },
  {
   "cell_type": "code",
   "execution_count": 90,
   "metadata": {},
   "outputs": [
    {
     "name": "stdout",
     "output_type": "stream",
     "text": [
      "\n",
      "Datos De Ganímedes   \n",
      "**************************************************\n",
      "nombre del planeta: Marte\n",
      "gravedad en Ganímedes: 1.4300000000000002 m/s2\n"
     ]
    }
   ],
   "source": [
    "print(plantilla2.format(nombre=nombre, planeta=planeta, gravedad=gravedad))"
   ]
  }
 ],
 "metadata": {
  "interpreter": {
   "hash": "ecc00035599a2a5af6d1725f103a1c85ca1bb6919d76d15eeab97f2612f268e8"
  },
  "kernelspec": {
   "display_name": "Python 3.8.8 ('base')",
   "language": "python",
   "name": "python3"
  },
  "language_info": {
   "codemirror_mode": {
    "name": "ipython",
    "version": 3
   },
   "file_extension": ".py",
   "mimetype": "text/x-python",
   "name": "python",
   "nbconvert_exporter": "python",
   "pygments_lexer": "ipython3",
   "version": "3.8.8"
  },
  "orig_nbformat": 4
 },
 "nbformat": 4,
 "nbformat_minor": 2
}
