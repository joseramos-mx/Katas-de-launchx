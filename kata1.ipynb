{
 "cells": [
  {
   "cell_type": "code",
   "execution_count": null,
   "metadata": {},
   "outputs": [],
   "source": [
    "#En este módulo, aprenderás una variedad de temas, como entrada y salida a la consola, variables y tipos de datos, y conversión de tipos."
   ]
  },
  {
   "cell_type": "code",
   "execution_count": 1,
   "metadata": {},
   "outputs": [],
   "source": [
    "from datetime import date"
   ]
  },
  {
   "cell_type": "code",
   "execution_count": 10,
   "metadata": {},
   "outputs": [
    {
     "name": "stdout",
     "output_type": "stream",
     "text": [
      "Today's date is: 2022-02-05\n"
     ]
    }
   ],
   "source": [
    "print(\"Today's date is: \" + str(date.today()))"
   ]
  },
  {
   "cell_type": "code",
   "execution_count": 16,
   "metadata": {},
   "outputs": [
    {
     "name": "stdout",
     "output_type": "stream",
     "text": [
      "1 parsec, is 3.26156 lightyears \n"
     ]
    }
   ],
   "source": [
    "parsec = 1\n",
    "lightyear = 3.26156 * parsec\n",
    "print(str(parsec) + \" parsec, is \" + str(lightyear) + \" lightyears \")"
   ]
  }
 ],
 "metadata": {
  "interpreter": {
   "hash": "506db80439dd85b95b54d55a88e06f50547aa6f3f45b25dbb22a38acdf2cbc0b"
  },
  "kernelspec": {
   "display_name": "Python 3.8.12 ('jupyter')",
   "language": "python",
   "name": "python3"
  },
  "language_info": {
   "codemirror_mode": {
    "name": "ipython",
    "version": 3
   },
   "file_extension": ".py",
   "mimetype": "text/x-python",
   "name": "python",
   "nbconvert_exporter": "python",
   "pygments_lexer": "ipython3",
   "version": "3.8.8"
  },
  "orig_nbformat": 4
 },
 "nbformat": 4,
 "nbformat_minor": 2
}
